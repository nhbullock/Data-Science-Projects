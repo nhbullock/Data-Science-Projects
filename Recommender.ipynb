{
  "nbformat": 4,
  "nbformat_minor": 0,
  "metadata": {
    "colab": {
      "name": "Recommender.ipynb",
      "provenance": [],
      "collapsed_sections": [],
      "authorship_tag": "ABX9TyNQ5Sf/RNHhll3p2KNxhhhc",
      "include_colab_link": true
    },
    "kernelspec": {
      "name": "python3",
      "display_name": "Python 3"
    },
    "language_info": {
      "name": "python"
    }
  },
  "cells": [
    {
      "cell_type": "markdown",
      "metadata": {
        "id": "view-in-github",
        "colab_type": "text"
      },
      "source": [
        "<a href=\"https://colab.research.google.com/github/nhbullock/Data-Science-Projects/blob/main/Recommender.ipynb\" target=\"_parent\"><img src=\"https://colab.research.google.com/assets/colab-badge.svg\" alt=\"Open In Colab\"/></a>"
      ]
    },
    {
      "cell_type": "code",
      "metadata": {
        "colab": {
          "base_uri": "https://localhost:8080/",
          "height": 221
        },
        "id": "BNnRuTE-VGOK",
        "outputId": "9c324b76-20fd-4b19-90e7-8c93f5a3b6af"
      },
      "source": [
        "## Trucking Company Recommender System ##\n",
        "import pandas as pd\n",
        "import numpy as np\n",
        "from pandas import read_csv\n",
        "from google.colab import drive\n",
        "drive.mount ('/content/gdrive/')\n",
        "companies = pd.read_csv('/content/gdrive/My Drive/Companies.csv')\n",
        "user = pd.read_csv('/content/gdrive/My Drive/User_Companies.csv')\n",
        "\n",
        "contact = ['Company','Phone number','Email','Base','Equipment','Hauler Type']\n",
        "user['Equipment'] = 'Hopper'\n",
        "user = user[['Company','Phone number','Email','Base','Equipment','Hauler Type']]\n",
        "user.head()\n",
        "\n",
        "companies = companies[['Company','Phone 1','Email','State','Equipment','Member Type']]\n",
        "companies.columns = companies.columns.str.replace('Phone 1','Phone number')\n",
        "companies.columns = companies.columns.str.replace('State','Base')\n",
        "companies.columns = companies.columns.str.replace('Member Type','Hauler Type')\n",
        "companies.head()\n",
        "\n",
        "# Combine the two datasets\n",
        "trucks = pd.concat([user,companies]).reset_index(drop=True)\n",
        "user_data = trucks[0:224] # User data\n",
        "bulkloads = trucks[225:] # BulkLoads data \n",
        "trucks.shape\n",
        "trucks['Info'] = trucks[trucks.columns[1:]].apply(lambda x: ','.join(x.dropna().astype(str)),axis=1)\n",
        "trucks[275:].head()"
      ],
      "execution_count": null,
      "outputs": [
        {
          "output_type": "stream",
          "text": [
            "Mounted at /content/gdrive/\n"
          ],
          "name": "stdout"
        },
        {
          "output_type": "execute_result",
          "data": {
            "text/html": [
              "<div>\n",
              "<style scoped>\n",
              "    .dataframe tbody tr th:only-of-type {\n",
              "        vertical-align: middle;\n",
              "    }\n",
              "\n",
              "    .dataframe tbody tr th {\n",
              "        vertical-align: top;\n",
              "    }\n",
              "\n",
              "    .dataframe thead th {\n",
              "        text-align: right;\n",
              "    }\n",
              "</style>\n",
              "<table border=\"1\" class=\"dataframe\">\n",
              "  <thead>\n",
              "    <tr style=\"text-align: right;\">\n",
              "      <th></th>\n",
              "      <th>Company</th>\n",
              "      <th>Phone number</th>\n",
              "      <th>Email</th>\n",
              "      <th>Base</th>\n",
              "      <th>Equipment</th>\n",
              "      <th>Hauler Type</th>\n",
              "      <th>Info</th>\n",
              "    </tr>\n",
              "  </thead>\n",
              "  <tbody>\n",
              "    <tr>\n",
              "      <th>275</th>\n",
              "      <td>AC RYAN I NC</td>\n",
              "      <td>251-751-1225</td>\n",
              "      <td>ARRYAN@CENTURYTEL.NET</td>\n",
              "      <td>AL</td>\n",
              "      <td>End Dump</td>\n",
              "      <td>Carrier</td>\n",
              "      <td>251-751-1225,ARRYAN@CENTURYTEL.NET,AL,End Dump...</td>\n",
              "    </tr>\n",
              "    <tr>\n",
              "      <th>276</th>\n",
              "      <td>FASTANDRELIABLETRUCKING</td>\n",
              "      <td>469-767-3081</td>\n",
              "      <td>Fasttrucking72@yahoo.com</td>\n",
              "      <td>AL</td>\n",
              "      <td>Walking Floor</td>\n",
              "      <td>Carrier</td>\n",
              "      <td>469-767-3081,Fasttrucking72@yahoo.com,AL,Walki...</td>\n",
              "    </tr>\n",
              "    <tr>\n",
              "      <th>277</th>\n",
              "      <td>MCM TRANSPORT LLC</td>\n",
              "      <td>251-545-5320</td>\n",
              "      <td>mmoore1676@gmail.com</td>\n",
              "      <td>AL</td>\n",
              "      <td>Pneumatic,Walking Floor</td>\n",
              "      <td>Carrier</td>\n",
              "      <td>251-545-5320,mmoore1676@gmail.com,AL,Pneumatic...</td>\n",
              "    </tr>\n",
              "    <tr>\n",
              "      <th>278</th>\n",
              "      <td>S&amp;J'S HOTSHOTS</td>\n",
              "      <td>601-327-9294</td>\n",
              "      <td>jeffreymccardle8695@gmail.com</td>\n",
              "      <td>AL</td>\n",
              "      <td>Walking Floor</td>\n",
              "      <td>Carrier</td>\n",
              "      <td>601-327-9294,jeffreymccardle8695@gmail.com,AL,...</td>\n",
              "    </tr>\n",
              "    <tr>\n",
              "      <th>279</th>\n",
              "      <td>SMA TRANS,LLC</td>\n",
              "      <td>256-609-8090</td>\n",
              "      <td>dewaynehghs@yahoo.com</td>\n",
              "      <td>AL</td>\n",
              "      <td>Hopper</td>\n",
              "      <td>Carrier</td>\n",
              "      <td>256-609-8090,dewaynehghs@yahoo.com,AL,Hopper,C...</td>\n",
              "    </tr>\n",
              "  </tbody>\n",
              "</table>\n",
              "</div>"
            ],
            "text/plain": [
              "                     Company  ...                                               Info\n",
              "275             AC RYAN I NC  ...  251-751-1225,ARRYAN@CENTURYTEL.NET,AL,End Dump...\n",
              "276  FASTANDRELIABLETRUCKING  ...  469-767-3081,Fasttrucking72@yahoo.com,AL,Walki...\n",
              "277        MCM TRANSPORT LLC  ...  251-545-5320,mmoore1676@gmail.com,AL,Pneumatic...\n",
              "278           S&J'S HOTSHOTS  ...  601-327-9294,jeffreymccardle8695@gmail.com,AL,...\n",
              "279            SMA TRANS,LLC  ...  256-609-8090,dewaynehghs@yahoo.com,AL,Hopper,C...\n",
              "\n",
              "[5 rows x 7 columns]"
            ]
          },
          "metadata": {
            "tags": []
          },
          "execution_count": 2
        }
      ]
    },
    {
      "cell_type": "code",
      "metadata": {
        "id": "wiCrHiwHf-10"
      },
      "source": [
        "# Tfidf_Vectorizer for sparse matrix\n",
        "import sklearn\n",
        "from sklearn.feature_extraction.text import TfidfVectorizer\n",
        "\n",
        "vector = TfidfVectorizer()\n",
        "trucks_matrix = vector.fit_transform(trucks['Info'])\n",
        "\n",
        "# Sigmoid for tracking similiarity results sigmoid_kernel\n",
        "from sklearn.metrics.pairwise import sigmoid_kernel\n",
        "sk = sigmoid_kernel(trucks_matrix,trucks_matrix)"
      ],
      "execution_count": null,
      "outputs": []
    },
    {
      "cell_type": "code",
      "metadata": {
        "id": "B3xRxdwoGjMq",
        "colab": {
          "base_uri": "https://localhost:8080/"
        },
        "outputId": "b4a0ca5e-7163-4418-82e5-2f944f023a15"
      },
      "source": [
        "## Building the model\n",
        "# 1 - Get Hauler from Company Series\n",
        "Company = pd.Series(trucks.index, index=trucks['Company']).drop_duplicates()\n",
        "Company"
      ],
      "execution_count": null,
      "outputs": [
        {
          "output_type": "execute_result",
          "data": {
            "text/plain": [
              "Company\n",
              "JBS Carriers                 0\n",
              "Schwend                      1\n",
              "Alexander Transport          2\n",
              "GreenTop                     3\n",
              "Bay & Sons                   4\n",
              "                          ... \n",
              "BRADY TRUCKING INC.       7542\n",
              "DOWNS TRUCKING            7543\n",
              "WOODARD TRUCKING          7544\n",
              "J R SANDBERG FARMS LLC    7545\n",
              "DIAMOND J EXPRESS LLC     7546\n",
              "Length: 7547, dtype: int64"
            ]
          },
          "metadata": {
            "tags": []
          },
          "execution_count": 5
        }
      ]
    },
    {
      "cell_type": "code",
      "metadata": {
        "colab": {
          "base_uri": "https://localhost:8080/"
        },
        "id": "FJsoKKMEGw04",
        "outputId": "e353a01d-88ad-472c-eb33-88bd8bae0304"
      },
      "source": [
        "# 2 - Feed into Sigmoid to get similar scores\n",
        "sk[Company['Alexander Transport']]"
      ],
      "execution_count": null,
      "outputs": [
        {
          "output_type": "execute_result",
          "data": {
            "text/plain": [
              "array([0.76159578, 0.76159562, 0.76162291, ..., 0.7615946 , 0.76159508,\n",
              "       0.76159524])"
            ]
          },
          "metadata": {
            "tags": []
          },
          "execution_count": 7
        }
      ]
    },
    {
      "cell_type": "code",
      "metadata": {
        "colab": {
          "base_uri": "https://localhost:8080/",
          "height": 390
        },
        "id": "1QSJW9aoGyVT",
        "outputId": "d59813a1-1351-49a1-d734-e8ce5b1ed20c"
      },
      "source": [
        "# 3 - Build list of sigmoid scores from truckers\n",
        "def trucker(company,num, sk=sk):\n",
        "  trucker_scores = pd.DataFrame(Company)\n",
        "  trucker_scores['scores'] = sk[Company[company]]\n",
        "  trucker_scores = trucker_scores.sort_values(by='scores',ascending=False)\n",
        "  trucker_scores = trucker_scores[1:num+1]\n",
        "  return trucker_scores\n",
        "trucker('Alexander Transport',10)\n"
      ],
      "execution_count": null,
      "outputs": [
        {
          "output_type": "execute_result",
          "data": {
            "text/html": [
              "<div>\n",
              "<style scoped>\n",
              "    .dataframe tbody tr th:only-of-type {\n",
              "        vertical-align: middle;\n",
              "    }\n",
              "\n",
              "    .dataframe tbody tr th {\n",
              "        vertical-align: top;\n",
              "    }\n",
              "\n",
              "    .dataframe thead th {\n",
              "        text-align: right;\n",
              "    }\n",
              "</style>\n",
              "<table border=\"1\" class=\"dataframe\">\n",
              "  <thead>\n",
              "    <tr style=\"text-align: right;\">\n",
              "      <th></th>\n",
              "      <th>0</th>\n",
              "      <th>scores</th>\n",
              "    </tr>\n",
              "    <tr>\n",
              "      <th>Company</th>\n",
              "      <th></th>\n",
              "      <th></th>\n",
              "    </tr>\n",
              "  </thead>\n",
              "  <tbody>\n",
              "    <tr>\n",
              "      <th>G.R.E.L TRUCKING, LLC</th>\n",
              "      <td>1188</td>\n",
              "      <td>0.761604</td>\n",
              "    </tr>\n",
              "    <tr>\n",
              "      <th>AGUILAR TRUCKING</th>\n",
              "      <td>6986</td>\n",
              "      <td>0.761601</td>\n",
              "    </tr>\n",
              "    <tr>\n",
              "      <th>BULK COMMODITIES LLC</th>\n",
              "      <td>2459</td>\n",
              "      <td>0.761601</td>\n",
              "    </tr>\n",
              "    <tr>\n",
              "      <th>ENERGY RESOURCES</th>\n",
              "      <td>6153</td>\n",
              "      <td>0.761601</td>\n",
              "    </tr>\n",
              "    <tr>\n",
              "      <th>BOOR SERVICE TRUCKING</th>\n",
              "      <td>3021</td>\n",
              "      <td>0.761600</td>\n",
              "    </tr>\n",
              "    <tr>\n",
              "      <th>WILLIAMS ENTERPRISES LLC.</th>\n",
              "      <td>237</td>\n",
              "      <td>0.761600</td>\n",
              "    </tr>\n",
              "    <tr>\n",
              "      <th>NORTHWEST TRANSPORTATION SERVICES INC</th>\n",
              "      <td>518</td>\n",
              "      <td>0.761600</td>\n",
              "    </tr>\n",
              "    <tr>\n",
              "      <th>SHEENA BENNETT AND WILLIE GOODMAN DBA G&amp;G TRUCKING</th>\n",
              "      <td>1372</td>\n",
              "      <td>0.761600</td>\n",
              "    </tr>\n",
              "    <tr>\n",
              "      <th>L&amp;D Trucking</th>\n",
              "      <td>189</td>\n",
              "      <td>0.761600</td>\n",
              "    </tr>\n",
              "    <tr>\n",
              "      <th>AMERICUS AG HAULERS INC</th>\n",
              "      <td>1116</td>\n",
              "      <td>0.761599</td>\n",
              "    </tr>\n",
              "  </tbody>\n",
              "</table>\n",
              "</div>"
            ],
            "text/plain": [
              "                                                       0    scores\n",
              "Company                                                           \n",
              "G.R.E.L TRUCKING, LLC                               1188  0.761604\n",
              "AGUILAR TRUCKING                                    6986  0.761601\n",
              "BULK COMMODITIES LLC                                2459  0.761601\n",
              "ENERGY RESOURCES                                    6153  0.761601\n",
              "BOOR SERVICE TRUCKING                               3021  0.761600\n",
              "WILLIAMS ENTERPRISES LLC.                            237  0.761600\n",
              "NORTHWEST TRANSPORTATION SERVICES INC                518  0.761600\n",
              "SHEENA BENNETT AND WILLIE GOODMAN DBA G&G TRUCKING  1372  0.761600\n",
              "L&D Trucking                                         189  0.761600\n",
              "AMERICUS AG HAULERS INC                             1116  0.761599"
            ]
          },
          "metadata": {
            "tags": []
          },
          "execution_count": 43
        }
      ]
    },
    {
      "cell_type": "code",
      "metadata": {
        "colab": {
          "base_uri": "https://localhost:8080/"
        },
        "id": "4Ohdw1fHHrUx",
        "outputId": "3786929e-93f7-40d2-de5d-d1595ee6da26"
      },
      "source": [
        "# 4 - Use sigmoid scores to build list of similar companies\n",
        "def trucker_idx(company,num, sk=sk):\n",
        "  trucker_scores = trucker(company, num)\n",
        "  index = trucker_scores[0]\n",
        "  return index\n",
        "\n",
        "trucker_idx('Alexander Transport',10)"
      ],
      "execution_count": null,
      "outputs": [
        {
          "output_type": "execute_result",
          "data": {
            "text/plain": [
              "Company\n",
              "G.R.E.L TRUCKING, LLC                                 1188\n",
              "AGUILAR TRUCKING                                      6986\n",
              "BULK COMMODITIES LLC                                  2459\n",
              "ENERGY RESOURCES                                      6153\n",
              "BOOR SERVICE TRUCKING                                 3021\n",
              "WILLIAMS ENTERPRISES LLC.                              237\n",
              "NORTHWEST TRANSPORTATION SERVICES INC                  518\n",
              "SHEENA BENNETT AND WILLIE GOODMAN DBA G&G TRUCKING    1372\n",
              "L&D Trucking                                           189\n",
              "AMERICUS AG HAULERS INC                               1116\n",
              "Name: 0, dtype: int64"
            ]
          },
          "metadata": {
            "tags": []
          },
          "execution_count": 44
        }
      ]
    },
    {
      "cell_type": "code",
      "metadata": {
        "id": "TdCTv_mFGz7C",
        "colab": {
          "base_uri": "https://localhost:8080/",
          "height": 359
        },
        "outputId": "0f9a5351-f30a-42fb-fb12-59134bdc51e8"
      },
      "source": [
        "# 4 - Use indices to return list of trucking companies\n",
        "def call_list(company,num, sk=sk):\n",
        "  index = trucker_idx(company,num)\n",
        "  call_list = trucks.iloc[index]\n",
        "  call_list = call_list[['Company','Phone number','Email','Base','Equipment','Hauler Type']]\n",
        "  return call_list\n",
        "\n",
        "call_list('Red Horizon',10)"
      ],
      "execution_count": null,
      "outputs": [
        {
          "output_type": "execute_result",
          "data": {
            "text/html": [
              "<div>\n",
              "<style scoped>\n",
              "    .dataframe tbody tr th:only-of-type {\n",
              "        vertical-align: middle;\n",
              "    }\n",
              "\n",
              "    .dataframe tbody tr th {\n",
              "        vertical-align: top;\n",
              "    }\n",
              "\n",
              "    .dataframe thead th {\n",
              "        text-align: right;\n",
              "    }\n",
              "</style>\n",
              "<table border=\"1\" class=\"dataframe\">\n",
              "  <thead>\n",
              "    <tr style=\"text-align: right;\">\n",
              "      <th></th>\n",
              "      <th>Company</th>\n",
              "      <th>Phone number</th>\n",
              "      <th>Email</th>\n",
              "      <th>Base</th>\n",
              "      <th>Equipment</th>\n",
              "      <th>Hauler Type</th>\n",
              "    </tr>\n",
              "  </thead>\n",
              "  <tbody>\n",
              "    <tr>\n",
              "      <th>3927</th>\n",
              "      <td>LAKE VIEW FREIGHT</td>\n",
              "      <td>320-766-3037</td>\n",
              "      <td>LENBOOGAARD81@GMAIL.COM</td>\n",
              "      <td>MN</td>\n",
              "      <td>Hopper High Side</td>\n",
              "      <td>Carrier</td>\n",
              "    </tr>\n",
              "    <tr>\n",
              "      <th>4001</th>\n",
              "      <td>PETERSON TRUCKING</td>\n",
              "      <td>320-766-6161</td>\n",
              "      <td>AARONPETERSON44@GMAIL.COM</td>\n",
              "      <td>MN</td>\n",
              "      <td>Hopper,Hopper High Side,Hopper Low Side</td>\n",
              "      <td>Carrier</td>\n",
              "    </tr>\n",
              "    <tr>\n",
              "      <th>3685</th>\n",
              "      <td>TERRA AG</td>\n",
              "      <td>320-766-5086</td>\n",
              "      <td>derrickpearsal@gmail.com</td>\n",
              "      <td>MN</td>\n",
              "      <td>Hopper,Hopper High Side,Hopper Low Side</td>\n",
              "      <td>Carrier Shipper</td>\n",
              "    </tr>\n",
              "    <tr>\n",
              "      <th>5257</th>\n",
              "      <td>M SNOBERGER FARMS INC</td>\n",
              "      <td>402-694-9647</td>\n",
              "      <td>MCSFARMSINC71@GMAIL.COM</td>\n",
              "      <td>NE</td>\n",
              "      <td>Hopper High Side</td>\n",
              "      <td>Carrier</td>\n",
              "    </tr>\n",
              "    <tr>\n",
              "      <th>1155</th>\n",
              "      <td>G&amp;T WILLIAMS TRUCKING</td>\n",
              "      <td>786-521-9647</td>\n",
              "      <td>GTTRUCKING33@gmail.com</td>\n",
              "      <td>GA</td>\n",
              "      <td>Hopper</td>\n",
              "      <td>Carrier</td>\n",
              "    </tr>\n",
              "    <tr>\n",
              "      <th>6950</th>\n",
              "      <td>HOGGING THE LANE</td>\n",
              "      <td>903-617-9647</td>\n",
              "      <td>bobbyosborn44@yahoo.com</td>\n",
              "      <td>TX</td>\n",
              "      <td>Hopper</td>\n",
              "      <td>Carrier</td>\n",
              "    </tr>\n",
              "    <tr>\n",
              "      <th>3599</th>\n",
              "      <td>TEAL TRUCKING</td>\n",
              "      <td>218-766-2360</td>\n",
              "      <td>JJTEAL78@GMAIL.COM</td>\n",
              "      <td>MN</td>\n",
              "      <td>Hopper</td>\n",
              "      <td>Carrier</td>\n",
              "    </tr>\n",
              "    <tr>\n",
              "      <th>3655</th>\n",
              "      <td>DUSTIN BODE TRUCKING</td>\n",
              "      <td>507-766-4998</td>\n",
              "      <td>dustinbodetrucking@gmail.com</td>\n",
              "      <td>MN</td>\n",
              "      <td>Hopper</td>\n",
              "      <td>Carrier</td>\n",
              "    </tr>\n",
              "    <tr>\n",
              "      <th>3623</th>\n",
              "      <td>MARTY WOODFORD TRANSPORT</td>\n",
              "      <td>218-766-2073</td>\n",
              "      <td>MARTYWODFORD@GMAIL.COM</td>\n",
              "      <td>MN</td>\n",
              "      <td>Hopper,Hopper High Side,Hopper Low Side</td>\n",
              "      <td>Carrier</td>\n",
              "    </tr>\n",
              "    <tr>\n",
              "      <th>3624</th>\n",
              "      <td>MCPHEE AND SONS TRUCKING</td>\n",
              "      <td>218-766-3312</td>\n",
              "      <td>joshmcphee32@hotmail.com</td>\n",
              "      <td>MN</td>\n",
              "      <td>Hopper,Hopper Low Side</td>\n",
              "      <td>Carrier</td>\n",
              "    </tr>\n",
              "  </tbody>\n",
              "</table>\n",
              "</div>"
            ],
            "text/plain": [
              "                       Company  ...      Hauler Type\n",
              "3927         LAKE VIEW FREIGHT  ...          Carrier\n",
              "4001         PETERSON TRUCKING  ...          Carrier\n",
              "3685                  TERRA AG  ...  Carrier Shipper\n",
              "5257     M SNOBERGER FARMS INC  ...          Carrier\n",
              "1155     G&T WILLIAMS TRUCKING  ...          Carrier\n",
              "6950          HOGGING THE LANE  ...          Carrier\n",
              "3599             TEAL TRUCKING  ...          Carrier\n",
              "3655      DUSTIN BODE TRUCKING  ...          Carrier\n",
              "3623  MARTY WOODFORD TRANSPORT  ...          Carrier\n",
              "3624  MCPHEE AND SONS TRUCKING  ...          Carrier\n",
              "\n",
              "[10 rows x 6 columns]"
            ]
          },
          "metadata": {
            "tags": []
          },
          "execution_count": 51
        }
      ]
    }
  ]
}