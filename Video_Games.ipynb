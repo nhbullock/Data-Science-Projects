{
  "nbformat": 4,
  "nbformat_minor": 0,
  "metadata": {
    "colab": {
      "name": "Video Games.ipynb",
      "provenance": [],
      "collapsed_sections": [],
      "toc_visible": true,
      "mount_file_id": "1i7ptGrac0mbopqP_3AdC8I785DZKL92B",
      "authorship_tag": "ABX9TyOZ2RIeiaxlLRUW/LKl2w5/",
      "include_colab_link": true
    },
    "kernelspec": {
      "name": "python3",
      "display_name": "Python 3"
    }
  },
  "cells": [
    {
      "cell_type": "markdown",
      "metadata": {
        "id": "view-in-github",
        "colab_type": "text"
      },
      "source": [
        "<a href=\"https://colab.research.google.com/github/nhbullock/Data-Science-Projects/blob/main/Video_Games.ipynb\" target=\"_parent\"><img src=\"https://colab.research.google.com/assets/colab-badge.svg\" alt=\"Open In Colab\"/></a>"
      ]
    },
    {
      "cell_type": "code",
      "metadata": {
        "id": "EowD0Ke_ozJ-",
        "colab": {
          "base_uri": "https://localhost:8080/"
        },
        "outputId": "1f4f77ac-f1e3-420c-e8d0-1665865d1cfe"
      },
      "source": [
        "# Import Dataset\n",
        "import pandas as pd\n",
        "import numpy as np\n",
        "from google.colab import drive\n",
        "drive.mount ('/content/gdrive')\n",
        "vgscore = pd.read_csv('/content/gdrive/My Drive/Video_Game_Sales_as_of_Jan_2017.csv')\n",
        "#vgscore = pd.DataFrame(vgscore)\n",
        "pd.set_option('display.max_columns', None)\n",
        "print(vgscore.head())"
      ],
      "execution_count": null,
      "outputs": [
        {
          "output_type": "stream",
          "text": [
            "Mounted at /content/gdrive\n",
            "                       Name Platform  Year_of_Release         Genre Publisher  \\\n",
            "0                Wii Sports      Wii           2006.0        Sports  Nintendo   \n",
            "1         Super Mario Bros.      NES           1985.0      Platform  Nintendo   \n",
            "2            Mario Kart Wii      Wii           2008.0        Racing  Nintendo   \n",
            "3         Wii Sports Resort      Wii           2009.0        Sports  Nintendo   \n",
            "4  Pokemon Red/Pokemon Blue        G           1996.0  Role-Playing  Nintendo   \n",
            "\n",
            "   NA_Sales  EU_Sales  JP_Sales  Other_Sales  Global_Sales  Critic_Score  \\\n",
            "0     41.36     28.96      3.77         8.45         82.54          76.0   \n",
            "1     29.08      3.58      6.81         0.77         40.24           NaN   \n",
            "2     15.68     12.80      3.79         3.29         35.57          82.0   \n",
            "3     15.61     10.95      3.28         2.95         32.78          80.0   \n",
            "4     11.27      8.89     10.22         1.00         31.37           NaN   \n",
            "\n",
            "   Critic_Count  User_Score  User_Count Rating  \n",
            "0          51.0         8.0       324.0      E  \n",
            "1           NaN         NaN         NaN    NaN  \n",
            "2          73.0         8.3       712.0      E  \n",
            "3          73.0         8.0       193.0      E  \n",
            "4           NaN         NaN         NaN    NaN  \n"
          ],
          "name": "stdout"
        }
      ]
    },
    {
      "cell_type": "code",
      "metadata": {
        "colab": {
          "base_uri": "https://localhost:8080/"
        },
        "id": "hN1T8VTQ59Om",
        "outputId": "fd9437e6-dae4-4326-8bae-63aa3ace4a2c"
      },
      "source": [
        "# Define a top rated game - Metacritic rating over 90%\n",
        "vgscore['top_rated'] = np.where(vgscore['Critic_Score']>=90,True,False)\n",
        "vgscore = vgscore[['Name','Genre','Publisher','Platform','Global_Sales','Year_of_Release','Rating','Critic_Score','top_rated']]\n",
        "print(vgscore.head())\n"
      ],
      "execution_count": null,
      "outputs": [
        {
          "output_type": "stream",
          "text": [
            "                       Name         Genre Publisher Platform  Global_Sales  \\\n",
            "0                Wii Sports        Sports  Nintendo      Wii         82.54   \n",
            "1         Super Mario Bros.      Platform  Nintendo      NES         40.24   \n",
            "2            Mario Kart Wii        Racing  Nintendo      Wii         35.57   \n",
            "3         Wii Sports Resort        Sports  Nintendo      Wii         32.78   \n",
            "4  Pokemon Red/Pokemon Blue  Role-Playing  Nintendo        G         31.37   \n",
            "\n",
            "   Year_of_Release Rating  Critic_Score  top_rated  \n",
            "0           2006.0      E          76.0      False  \n",
            "1           1985.0    NaN           NaN      False  \n",
            "2           2008.0      E          82.0      False  \n",
            "3           2009.0      E          80.0      False  \n",
            "4           1996.0    NaN           NaN      False  \n"
          ],
          "name": "stdout"
        }
      ]
    },
    {
      "cell_type": "code",
      "metadata": {
        "colab": {
          "base_uri": "https://localhost:8080/",
          "height": 299
        },
        "id": "W5q_VXWsos3k",
        "outputId": "52f9bf0b-6f6f-404c-eadd-5c6ace0254e1"
      },
      "source": [
        "#lets convert the target variable into an integer\n",
        "vgscore.target = vgscore.target.astype(int) "
      ],
      "execution_count": null,
      "outputs": [
        {
          "output_type": "error",
          "ename": "AttributeError",
          "evalue": "ignored",
          "traceback": [
            "\u001b[0;31m---------------------------------------------------------------------------\u001b[0m",
            "\u001b[0;31mAttributeError\u001b[0m                            Traceback (most recent call last)",
            "\u001b[0;32m<ipython-input-76-44179bf76661>\u001b[0m in \u001b[0;36m<module>\u001b[0;34m()\u001b[0m\n\u001b[1;32m      1\u001b[0m \u001b[0;31m#lets convert the target variable into an integer\u001b[0m\u001b[0;34m\u001b[0m\u001b[0;34m\u001b[0m\u001b[0;34m\u001b[0m\u001b[0m\n\u001b[0;32m----> 2\u001b[0;31m \u001b[0mvgscore\u001b[0m\u001b[0;34m.\u001b[0m\u001b[0mtarget\u001b[0m \u001b[0;34m=\u001b[0m \u001b[0mvgscore\u001b[0m\u001b[0;34m.\u001b[0m\u001b[0mtarget\u001b[0m\u001b[0;34m.\u001b[0m\u001b[0mastype\u001b[0m\u001b[0;34m(\u001b[0m\u001b[0mint\u001b[0m\u001b[0;34m)\u001b[0m\u001b[0;34m\u001b[0m\u001b[0;34m\u001b[0m\u001b[0m\n\u001b[0m",
            "\u001b[0;32m/usr/local/lib/python3.7/dist-packages/pandas/core/generic.py\u001b[0m in \u001b[0;36m__getattr__\u001b[0;34m(self, name)\u001b[0m\n\u001b[1;32m   5139\u001b[0m             \u001b[0;32mif\u001b[0m \u001b[0mself\u001b[0m\u001b[0;34m.\u001b[0m\u001b[0m_info_axis\u001b[0m\u001b[0;34m.\u001b[0m\u001b[0m_can_hold_identifiers_and_holds_name\u001b[0m\u001b[0;34m(\u001b[0m\u001b[0mname\u001b[0m\u001b[0;34m)\u001b[0m\u001b[0;34m:\u001b[0m\u001b[0;34m\u001b[0m\u001b[0;34m\u001b[0m\u001b[0m\n\u001b[1;32m   5140\u001b[0m                 \u001b[0;32mreturn\u001b[0m \u001b[0mself\u001b[0m\u001b[0;34m[\u001b[0m\u001b[0mname\u001b[0m\u001b[0;34m]\u001b[0m\u001b[0;34m\u001b[0m\u001b[0;34m\u001b[0m\u001b[0m\n\u001b[0;32m-> 5141\u001b[0;31m             \u001b[0;32mreturn\u001b[0m \u001b[0mobject\u001b[0m\u001b[0;34m.\u001b[0m\u001b[0m__getattribute__\u001b[0m\u001b[0;34m(\u001b[0m\u001b[0mself\u001b[0m\u001b[0;34m,\u001b[0m \u001b[0mname\u001b[0m\u001b[0;34m)\u001b[0m\u001b[0;34m\u001b[0m\u001b[0;34m\u001b[0m\u001b[0m\n\u001b[0m\u001b[1;32m   5142\u001b[0m \u001b[0;34m\u001b[0m\u001b[0m\n\u001b[1;32m   5143\u001b[0m     \u001b[0;32mdef\u001b[0m \u001b[0m__setattr__\u001b[0m\u001b[0;34m(\u001b[0m\u001b[0mself\u001b[0m\u001b[0;34m,\u001b[0m \u001b[0mname\u001b[0m\u001b[0;34m:\u001b[0m \u001b[0mstr\u001b[0m\u001b[0;34m,\u001b[0m \u001b[0mvalue\u001b[0m\u001b[0;34m)\u001b[0m \u001b[0;34m->\u001b[0m \u001b[0;32mNone\u001b[0m\u001b[0;34m:\u001b[0m\u001b[0;34m\u001b[0m\u001b[0;34m\u001b[0m\u001b[0m\n",
            "\u001b[0;31mAttributeError\u001b[0m: 'DataFrame' object has no attribute 'target'"
          ]
        }
      ]
    },
    {
      "cell_type": "code",
      "metadata": {
        "id": "kRfHOiJ3oVZc"
      },
      "source": [
        "# Split input features and target labels\n",
        "y = vgscore['top_rated']\n",
        "x = vgscore.iloc[:,:-1]"
      ],
      "execution_count": null,
      "outputs": []
    },
    {
      "cell_type": "code",
      "metadata": {
        "id": "Ae3b5vktoeEe"
      },
      "source": [
        "# Split the data into trian and test set\n",
        "X_train, X_test, y_train, y_test = train_test_split(X, y, test_size=0.20, random_state=42)"
      ],
      "execution_count": null,
      "outputs": []
    },
    {
      "cell_type": "code",
      "metadata": {
        "id": "4bktsalYogK9"
      },
      "source": [
        "# Define the model\n",
        "dtree = DecisionTreeClassifier()\n",
        "dtree.fit(X_train,y_train)#fit the model\n",
        "\n",
        "dtree.score(X_train,y_train) # train set accuracy\n",
        "dtree.score(X_test,y_test) #Test set accuracy"
      ],
      "execution_count": null,
      "outputs": []
    },
    {
      "cell_type": "code",
      "metadata": {
        "id": "wt44MBqtDVbf",
        "colab": {
          "base_uri": "https://localhost:8080/",
          "height": 578
        },
        "outputId": "22d1635a-90e3-4042-c0c6-4718c492ce60"
      },
      "source": [
        "# Build function for Genre\n",
        "vgscore_genre = vgscore.groupby('Genre','top_rated'==True).sum()\n",
        "vgscore_genre = vgscore_genre.sort_values(by='top_rated',ascending=False)\n",
        "vgscore_genre = vgscore_genre['top_rated']\n",
        "vgscore_genre = pd.DataFrame(vgscore_genre)\n",
        "\n",
        "genre_total = vgscore.groupby('Genre').count()\n",
        "genre_total = pd.DataFrame(genre_total['Name'])\n",
        "\n",
        "vgscore_genre = vgscore_genre.join(genre_total)\n",
        "vgscore_genre['Weight'] = (vgscore_genre['top_rated']/vgscore_genre['Name'])\n",
        "vgscore_genre = vgscore_genre.sort_values(by='Weight', ascending=False)\n",
        "\n",
        "print(vgscore_genre)\n",
        "\n",
        "def genre(game):\n",
        "  for game in vgscore['Name']:\n",
        "    if vgscore['Genre'] in vgscore_genre:\n",
        "      return vgscore_genre['Weight']\n",
        "\n",
        "print(genre('Super Mario Bros'))"
      ],
      "execution_count": null,
      "outputs": [
        {
          "output_type": "stream",
          "text": [
            "              top_rated  Name    Weight\n",
            "Genre                                  \n",
            "Shooter              49  1349  0.036323\n",
            "Role-Playing         50  1545  0.032362\n",
            "Platform             25   900  0.027778\n",
            "Sports               66  2408  0.027409\n",
            "Action               80  3503  0.022838\n",
            "Strategy             14   734  0.019074\n",
            "Fighting             13   864  0.015046\n",
            "Racing               16  1282  0.012480\n",
            "Simulation            8   925  0.008649\n",
            "Misc                 12  1813  0.006619\n",
            "Puzzle                2   615  0.003252\n",
            "Adventure             4  1478  0.002706\n"
          ],
          "name": "stdout"
        },
        {
          "output_type": "error",
          "ename": "TypeError",
          "evalue": "ignored",
          "traceback": [
            "\u001b[0;31m---------------------------------------------------------------------------\u001b[0m",
            "\u001b[0;31mTypeError\u001b[0m                                 Traceback (most recent call last)",
            "\u001b[0;32m<ipython-input-68-473a618c7d44>\u001b[0m in \u001b[0;36m<module>\u001b[0;34m()\u001b[0m\n\u001b[1;32m     19\u001b[0m       \u001b[0;32mreturn\u001b[0m \u001b[0mvgscore_genre\u001b[0m\u001b[0;34m[\u001b[0m\u001b[0;34m'Weight'\u001b[0m\u001b[0;34m]\u001b[0m\u001b[0;34m\u001b[0m\u001b[0;34m\u001b[0m\u001b[0m\n\u001b[1;32m     20\u001b[0m \u001b[0;34m\u001b[0m\u001b[0m\n\u001b[0;32m---> 21\u001b[0;31m \u001b[0mprint\u001b[0m\u001b[0;34m(\u001b[0m\u001b[0mgenre\u001b[0m\u001b[0;34m(\u001b[0m\u001b[0;34m'Super Mario Bros'\u001b[0m\u001b[0;34m)\u001b[0m\u001b[0;34m)\u001b[0m\u001b[0;34m\u001b[0m\u001b[0;34m\u001b[0m\u001b[0m\n\u001b[0m",
            "\u001b[0;32m<ipython-input-68-473a618c7d44>\u001b[0m in \u001b[0;36mgenre\u001b[0;34m(game)\u001b[0m\n\u001b[1;32m     16\u001b[0m \u001b[0;32mdef\u001b[0m \u001b[0mgenre\u001b[0m\u001b[0;34m(\u001b[0m\u001b[0mgame\u001b[0m\u001b[0;34m)\u001b[0m\u001b[0;34m:\u001b[0m\u001b[0;34m\u001b[0m\u001b[0;34m\u001b[0m\u001b[0m\n\u001b[1;32m     17\u001b[0m   \u001b[0;32mfor\u001b[0m \u001b[0mgame\u001b[0m \u001b[0;32min\u001b[0m \u001b[0mvgscore\u001b[0m\u001b[0;34m[\u001b[0m\u001b[0;34m'Name'\u001b[0m\u001b[0;34m]\u001b[0m\u001b[0;34m:\u001b[0m\u001b[0;34m\u001b[0m\u001b[0;34m\u001b[0m\u001b[0m\n\u001b[0;32m---> 18\u001b[0;31m     \u001b[0;32mif\u001b[0m \u001b[0mvgscore\u001b[0m\u001b[0;34m[\u001b[0m\u001b[0;34m'Genre'\u001b[0m\u001b[0;34m]\u001b[0m \u001b[0;32min\u001b[0m \u001b[0mvgscore_genre\u001b[0m\u001b[0;34m:\u001b[0m\u001b[0;34m\u001b[0m\u001b[0;34m\u001b[0m\u001b[0m\n\u001b[0m\u001b[1;32m     19\u001b[0m       \u001b[0;32mreturn\u001b[0m \u001b[0mvgscore_genre\u001b[0m\u001b[0;34m[\u001b[0m\u001b[0;34m'Weight'\u001b[0m\u001b[0;34m]\u001b[0m\u001b[0;34m\u001b[0m\u001b[0;34m\u001b[0m\u001b[0m\n\u001b[1;32m     20\u001b[0m \u001b[0;34m\u001b[0m\u001b[0m\n",
            "\u001b[0;32m/usr/local/lib/python3.7/dist-packages/pandas/core/generic.py\u001b[0m in \u001b[0;36m__contains__\u001b[0;34m(self, key)\u001b[0m\n\u001b[1;32m   1719\u001b[0m     \u001b[0;32mdef\u001b[0m \u001b[0m__contains__\u001b[0m\u001b[0;34m(\u001b[0m\u001b[0mself\u001b[0m\u001b[0;34m,\u001b[0m \u001b[0mkey\u001b[0m\u001b[0;34m)\u001b[0m \u001b[0;34m->\u001b[0m \u001b[0mbool_t\u001b[0m\u001b[0;34m:\u001b[0m\u001b[0;34m\u001b[0m\u001b[0;34m\u001b[0m\u001b[0m\n\u001b[1;32m   1720\u001b[0m         \u001b[0;34m\"\"\"True if the key is in the info axis\"\"\"\u001b[0m\u001b[0;34m\u001b[0m\u001b[0;34m\u001b[0m\u001b[0m\n\u001b[0;32m-> 1721\u001b[0;31m         \u001b[0;32mreturn\u001b[0m \u001b[0mkey\u001b[0m \u001b[0;32min\u001b[0m \u001b[0mself\u001b[0m\u001b[0;34m.\u001b[0m\u001b[0m_info_axis\u001b[0m\u001b[0;34m\u001b[0m\u001b[0;34m\u001b[0m\u001b[0m\n\u001b[0m\u001b[1;32m   1722\u001b[0m \u001b[0;34m\u001b[0m\u001b[0m\n\u001b[1;32m   1723\u001b[0m     \u001b[0;34m@\u001b[0m\u001b[0mproperty\u001b[0m\u001b[0;34m\u001b[0m\u001b[0;34m\u001b[0m\u001b[0m\n",
            "\u001b[0;32m/usr/local/lib/python3.7/dist-packages/pandas/core/indexes/base.py\u001b[0m in \u001b[0;36m__contains__\u001b[0;34m(self, key)\u001b[0m\n\u001b[1;32m   4072\u001b[0m         \u001b[0;32mFalse\u001b[0m\u001b[0;34m\u001b[0m\u001b[0;34m\u001b[0m\u001b[0m\n\u001b[1;32m   4073\u001b[0m         \"\"\"\n\u001b[0;32m-> 4074\u001b[0;31m         \u001b[0mhash\u001b[0m\u001b[0;34m(\u001b[0m\u001b[0mkey\u001b[0m\u001b[0;34m)\u001b[0m\u001b[0;34m\u001b[0m\u001b[0;34m\u001b[0m\u001b[0m\n\u001b[0m\u001b[1;32m   4075\u001b[0m         \u001b[0;32mtry\u001b[0m\u001b[0;34m:\u001b[0m\u001b[0;34m\u001b[0m\u001b[0;34m\u001b[0m\u001b[0m\n\u001b[1;32m   4076\u001b[0m             \u001b[0;32mreturn\u001b[0m \u001b[0mkey\u001b[0m \u001b[0;32min\u001b[0m \u001b[0mself\u001b[0m\u001b[0;34m.\u001b[0m\u001b[0m_engine\u001b[0m\u001b[0;34m\u001b[0m\u001b[0;34m\u001b[0m\u001b[0m\n",
            "\u001b[0;32m/usr/local/lib/python3.7/dist-packages/pandas/core/generic.py\u001b[0m in \u001b[0;36m__hash__\u001b[0;34m(self)\u001b[0m\n\u001b[1;32m   1667\u001b[0m     \u001b[0;32mdef\u001b[0m \u001b[0m__hash__\u001b[0m\u001b[0;34m(\u001b[0m\u001b[0mself\u001b[0m\u001b[0;34m)\u001b[0m\u001b[0;34m:\u001b[0m\u001b[0;34m\u001b[0m\u001b[0;34m\u001b[0m\u001b[0m\n\u001b[1;32m   1668\u001b[0m         raise TypeError(\n\u001b[0;32m-> 1669\u001b[0;31m             \u001b[0;34mf\"{repr(type(self).__name__)} objects are mutable, \"\u001b[0m\u001b[0;34m\u001b[0m\u001b[0;34m\u001b[0m\u001b[0m\n\u001b[0m\u001b[1;32m   1670\u001b[0m             \u001b[0;34mf\"thus they cannot be hashed\"\u001b[0m\u001b[0;34m\u001b[0m\u001b[0;34m\u001b[0m\u001b[0m\n\u001b[1;32m   1671\u001b[0m         )\n",
            "\u001b[0;31mTypeError\u001b[0m: 'Series' objects are mutable, thus they cannot be hashed"
          ]
        }
      ]
    },
    {
      "cell_type": "code",
      "metadata": {
        "id": "z7iwLioTDXXR"
      },
      "source": [
        "# Build function for Publisher"
      ],
      "execution_count": null,
      "outputs": []
    },
    {
      "cell_type": "code",
      "metadata": {
        "id": "DfbWW4LhL0my"
      },
      "source": [
        "# Build function for Platform"
      ],
      "execution_count": null,
      "outputs": []
    },
    {
      "cell_type": "code",
      "metadata": {
        "id": "zp8OF1WZ3tKk"
      },
      "source": [
        "# Build function for Sales"
      ],
      "execution_count": null,
      "outputs": []
    },
    {
      "cell_type": "code",
      "metadata": {
        "id": "buf6aYe3-6lP"
      },
      "source": [
        "# Build function for ESRB Rating"
      ],
      "execution_count": null,
      "outputs": []
    },
    {
      "cell_type": "code",
      "metadata": {
        "id": "6lDM1yHy35az"
      },
      "source": [
        "# GINI test for best functions\n",
        "def gini(function):\n",
        "\n",
        "  "
      ],
      "execution_count": null,
      "outputs": []
    },
    {
      "cell_type": "code",
      "metadata": {
        "id": "8Zm1txkt4CCt"
      },
      "source": [
        "# Top Rated Games - historical through 2017"
      ],
      "execution_count": null,
      "outputs": []
    }
  ]
}